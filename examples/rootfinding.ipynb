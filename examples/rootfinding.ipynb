{
 "cells": [
  {
   "cell_type": "code",
   "execution_count": 10,
   "metadata": {
    "scrolled": true
   },
   "outputs": [],
   "source": [
    "from autoDiff_team15_2022 import *"
   ]
  },
  {
   "cell_type": "code",
   "execution_count": 11,
   "metadata": {},
   "outputs": [],
   "source": [
    "def fn(x, y):\n",
    "    return 2*x + y\n",
    "def fn1(x, y):\n",
    "    return 2**x + sin(y)"
   ]
  },
  {
   "cell_type": "code",
   "execution_count": 12,
   "metadata": {
    "scrolled": true
   },
   "outputs": [
    {
     "name": "stdout",
     "output_type": "stream",
     "text": [
      "Gradient: \n",
      " [[ 2.          1.        ]\n",
      " [ 1.38629436 -0.41614684]]\n",
      "Evaluated: \n",
      " [4.         2.90929743]\n",
      "Gradient: \n",
      " [[ 2.          1.        ]\n",
      " [ 1.38629436 -0.41614684]]\n",
      "\n",
      "\n",
      "Evaluated: \n",
      " [4.         2.90929743]\n"
     ]
    }
   ],
   "source": [
    "f_ad = Forward_AD([fn, fn1])\n",
    "print('Gradient: \\n', f_ad.grad([1, 2]))\n",
    "print('Evaluated: \\n', f_ad.values([1, 2]))\n",
    "f_ad = Reverse_AD([fn, fn1])\n",
    "print('Gradient: \\n', f_ad.grad([1, 2]))\n",
    "print('\\n')\n",
    "print('Evaluated: \\n', f_ad.values([1, 2]))"
   ]
  },
  {
   "cell_type": "code",
   "execution_count": 13,
   "metadata": {
    "scrolled": true
   },
   "outputs": [],
   "source": [
    "import timeit\n",
    "from autoDiff_team15_2022 import *"
   ]
  },
  {
   "cell_type": "code",
   "execution_count": 14,
   "metadata": {
    "scrolled": false
   },
   "outputs": [],
   "source": [
    "def newton_root(f, df, x0, epsilon, max_iter: int = 10000):\n",
    "    \"\"\"Implementation of Newton's Method for root finding using automatic differentiation\n",
    "\n",
    "    Parameters\n",
    "    ======\n",
    "    f : function\n",
    "        Input function for root finding\n",
    "    df : function\n",
    "        Derivative of input function\n",
    "    x0 : int, float\n",
    "        Initial guess for root\n",
    "    epsilon : int, float\n",
    "        Tolerance for considering root to be found\n",
    "    max_iter : Maximum iterations of algorithm before giving up on finding root\n",
    "\n",
    "    Returns\n",
    "    =======\n",
    "    iterations : int, None\n",
    "        Number of algorithm iterations needed to find root\n",
    "    root : float, None\n",
    "        Found root of input function\n",
    "\n",
    "    Example\n",
    "    =======\n",
    "    # Input function\n",
    "    >>> def fi(x):\n",
    "    >>>    return x**3 + sin(x)\n",
    "\n",
    "    # Value of function\n",
    "    >>> def fx(x):\n",
    "    >>>    return ad.values(x)\n",
    "\n",
    "    # Derivative of function\n",
    "    >>> def dfx(x):\n",
    "    >>>    return ad.grad(x)\n",
    "\n",
    "    # Find root with forward mode\n",
    "    >>> forward = Forward_AD(fi)\n",
    "    >>> ad = forward\n",
    "\n",
    "    # Parameters\n",
    "    >>> x_guess = 3\n",
    "    >>> real_root = 0\n",
    "    >>> epsilon = 1.e-20\n",
    "    >>> max_iter = 100\n",
    "\n",
    "    # Find root\n",
    "    >>> iterations, root = newton_root(fx, dfx, x_guess, epsilon, max_iter)\n",
    "    >>> print(\"Number of iterations to successfully find root:\", iterations)\n",
    "    >>> print(\"Root found:\", root)\n",
    "    >>> print(\"Real root:\", real_root)\n",
    "    Number of iterations to successfully find root: 9\n",
    "    Root found: 0.0\n",
    "    Real root: 0\n",
    "    \"\"\"\n",
    "    # Initiatize iteration count and current input\n",
    "    i = 1\n",
    "    x = x0\n",
    "\n",
    "    # Attempt to find root by looping until maximum number of iterations reached\n",
    "    while i <= max_iter:\n",
    "        # Evaluate function at current input value\n",
    "        fx = f(x)\n",
    "        \n",
    "        # Evaluate derivative of function at current input value\n",
    "        dfx = df(x)\n",
    "\n",
    "        if abs(fx) < epsilon:\n",
    "            # Return iteration count and root once root is found\n",
    "            return i, x\n",
    "\n",
    "        # Cannot divide by zero if dfx is zero\n",
    "        if dfx == 0:\n",
    "            print(\"Failed to find the root because derivative is 0.\")\n",
    "            return None, None\n",
    "\n",
    "        # Update input value\n",
    "        x = x - (fx/dfx)[0]\n",
    "\n",
    "        # Increment number of iterations of newton's method\n",
    "        i = i + 1\n",
    "    \n",
    "    # Maximum iterations reached without root\n",
    "    print(\"Reached maximum iterations. Failed to find the root\")\n",
    "    return None, None\n"
   ]
  },
  {
   "cell_type": "code",
   "execution_count": 15,
   "metadata": {},
   "outputs": [],
   "source": [
    "# Example function\n",
    "def fi(x):\n",
    "    return x**3 + sin(x)\n",
    "\n",
    "# Value of function\n",
    "def fx(x):\n",
    "    return ad.values(x)\n",
    "\n",
    "# Derivative of function\n",
    "def dfx(x):\n",
    "    return ad.grad(x)\n",
    "\n",
    "# Find root with forward mode\n",
    "forward = Forward_AD(fi)\n",
    "reverse = Reverse_AD(fi)\n",
    "ad = forward\n",
    "\n",
    "# Parameters\n",
    "x_guess = 3\n",
    "real_root = 0\n",
    "epsilon = 1.e-20\n",
    "max_iter = 100"
   ]
  },
  {
   "cell_type": "code",
   "execution_count": 16,
   "metadata": {},
   "outputs": [
    {
     "name": "stdout",
     "output_type": "stream",
     "text": [
      "Number of iterations to successfully find root: 9\n",
      "Root found: 0.0\n",
      "Real root: 0\n",
      "Forward mode time to find root 50000 times: 2.5042410410242155 seconds.\n",
      "Reverse mode time to find root 50000 times: 3.5045387089485303 seconds.\n",
      "Forward mode faster than reverse mode by 27.54%.\n"
     ]
    }
   ],
   "source": [
    "# Find root\n",
    "iterations, root = newton_root(fx, dfx, x_guess, epsilon, max_iter)\n",
    "print(\"Number of iterations to successfully find root:\", iterations)\n",
    "print(\"Root found:\", root)\n",
    "print(\"Real root:\", real_root)\n",
    "\n",
    "# Helper function for benchmarking\n",
    "def root_wrap_for_benchmark():\n",
    "    return newton_root(fx, dfx, 2, 1.e-20, 100)\n",
    "\n",
    "# Number of function calls for benchmarking\n",
    "loops = 50000\n",
    "\n",
    "# Benchmark forward and reverse modes if a root exists\n",
    "if root == None:\n",
    "    print(\"No roots to benchmark.\")\n",
    "else:\n",
    "    # Benchmark forward mode\n",
    "    forward_benchmark = timeit.timeit(stmt='root_wrap_for_benchmark()',globals=globals(), number=loops)\n",
    "    print(f\"Forward mode time to find root {loops} times: {forward_benchmark} seconds.\")\n",
    "\n",
    "    # Benchmark reverse mode\n",
    "    ad = reverse\n",
    "    reverse_benchmark = timeit.timeit(stmt='root_wrap_for_benchmark()',globals=globals(), number=loops)\n",
    "    print(f\"Reverse mode time to find root {loops} times: {reverse_benchmark} seconds.\")\n",
    "\n",
    "    # Percent difference in performance between forward and reverse modes\n",
    "    if reverse_benchmark > forward_benchmark:\n",
    "        print(f\"Forward mode faster than reverse mode by {round(100*((reverse_benchmark - forward_benchmark)/ reverse_benchmark) - 1, 2)}%.\")\n",
    "    else:\n",
    "        print(f\"Reverse mode faster than forward mode by {round(100*((forward_benchmark - reverse_benchmark)/ forward_benchmark) - 1, 2)}%.\")    "
   ]
  },
  {
   "cell_type": "code",
   "execution_count": null,
   "metadata": {},
   "outputs": [],
   "source": []
  }
 ],
 "metadata": {
  "kernelspec": {
   "display_name": "Python 3 (ipykernel)",
   "language": "python",
   "name": "python3"
  },
  "language_info": {
   "codemirror_mode": {
    "name": "ipython",
    "version": 3
   },
   "file_extension": ".py",
   "mimetype": "text/x-python",
   "name": "python",
   "nbconvert_exporter": "python",
   "pygments_lexer": "ipython3",
   "version": "3.10.7"
  },
  "vscode": {
   "interpreter": {
    "hash": "b0fa6594d8f4cbf19f97940f81e996739fb7646882a419484c72d19e05852a7e"
   }
  }
 },
 "nbformat": 4,
 "nbformat_minor": 2
}
